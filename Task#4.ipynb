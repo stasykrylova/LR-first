{
 "cells": [
  {
   "cell_type": "markdown",
   "metadata": {},
   "source": [
    "#   LR1 Task 4"
   ]
  },
  {
   "cell_type": "code",
   "execution_count": null,
   "metadata": {},
   "outputs": [],
   "source": [
    "import json as jsn \n",
    "import pandas as pd\n",
    "df = pd.DataFrame()\n",
    "id=0\n",
    "with open('jsonFile.json','r') as f:\n",
    "    data=jsn.loads(f.read())\n",
    "for item in data:\n",
    "    for country, value in item['sales_by_country'].items():\n",
    "        for i in value:\n",
    "            df.loc[id,'item']=item['item']\n",
    "            df.loc[id,'country']=country\n",
    "            df.loc[id,'year']=i\n",
    "            df.loc[id,'sales']=value[i]\n",
    "            id+=1\n",
    "df.to_csv('csvFile.csv',sep=\"|\")\n",
    "\n",
    "         "
   ]
  },
  {
   "cell_type": "code",
   "execution_count": null,
   "metadata": {},
   "outputs": [],
   "source": []
  }
 ],
 "metadata": {
  "kernelspec": {
   "display_name": "Python 3",
   "language": "python",
   "name": "python3"
  },
  "language_info": {
   "codemirror_mode": {
    "name": "ipython",
    "version": 3
   },
   "file_extension": ".py",
   "mimetype": "text/x-python",
   "name": "python",
   "nbconvert_exporter": "python",
   "pygments_lexer": "ipython3",
   "version": "3.8.3"
  }
 },
 "nbformat": 4,
 "nbformat_minor": 4
}
