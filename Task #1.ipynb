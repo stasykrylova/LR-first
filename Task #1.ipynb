{
 "cells": [
  {
   "cell_type": "markdown",
   "metadata": {},
   "source": [
    "# LR1 Task 1"
   ]
  },
  {
   "cell_type": "code",
   "execution_count": 3,
   "metadata": {},
   "outputs": [
    {
     "name": "stdout",
     "output_type": "stream",
     "text": [
      "a: [0, 5, 6]\n",
      "b: [1, 7]\n",
      "c: [2, 8]\n",
      "d: [3]\n",
      "e: [4]\n",
      "a: [0, 5, 6]\n",
      "b: [1, 7]\n",
      "c: [2, 8]\n",
      "d: [3]\n",
      "e: [4]\n",
      "a: [0, 5, 6]\n",
      "b: [1, 7]\n",
      "c: [2, 8]\n",
      "d: [3]\n",
      "e: [4]\n"
     ]
    }
   ],
   "source": [
    "def positions(mass, c):\n",
    "    pos=[]\n",
    "    for i in range(len(mass)):\n",
    "        if mass[i]==c:\n",
    "            pos.append(i)\n",
    "    return pos\n",
    "\n",
    "def dictionary(mass):\n",
    "    dic={}\n",
    "    for i in mass:\n",
    "        dic[i]=positions(mass,i)\n",
    "    return dic\n",
    "\n",
    "def goodLookingPrint(dic):\n",
    "    for key, value in dic.items():\n",
    "        print(\"{0}: {1}\".format(key,value))\n",
    "\n",
    "mass=['a','b','c','d','e','a','a','b','c']\n",
    "goodLookingPrint(dictionary(mass))\n",
    "#############################################\n",
    "def fastCicle(mass):\n",
    "    dic2={}\n",
    "    for i in mass:\n",
    "        pos2=[]\n",
    "        for j in range(len(mass)):\n",
    "            if mass[j]==i:  \n",
    "                pos2.append(j)\n",
    "            dic2[i]=pos2\n",
    "    return dic2\n",
    "\n",
    "goodLookingPrint(fastCicle(mass))\n",
    "\n",
    "#################################################\n",
    "\n",
    "dic3 = {i: list(filter(lambda x: mass[x] == i, range(len(mass)))) for i in mass}\n",
    "goodLookingPrint(dic3)\n",
    "##################################################"
   ]
  },
  {
   "cell_type": "code",
   "execution_count": null,
   "metadata": {},
   "outputs": [],
   "source": []
  }
 ],
 "metadata": {
  "kernelspec": {
   "display_name": "Python 3",
   "language": "python",
   "name": "python3"
  },
  "language_info": {
   "codemirror_mode": {
    "name": "ipython",
    "version": 3
   },
   "file_extension": ".py",
   "mimetype": "text/x-python",
   "name": "python",
   "nbconvert_exporter": "python",
   "pygments_lexer": "ipython3",
   "version": "3.8.3"
  }
 },
 "nbformat": 4,
 "nbformat_minor": 4
}
