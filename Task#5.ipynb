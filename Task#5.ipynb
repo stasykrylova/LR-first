{
 "cells": [
  {
   "cell_type": "markdown",
   "metadata": {},
   "source": [
    "#   LR1 Task 5\n",
    "     "
   ]
  },
  {
   "cell_type": "code",
   "execution_count": 11,
   "metadata": {},
   "outputs": [
    {
     "name": "stdout",
     "output_type": "stream",
     "text": [
      "           Date   Dollar      EUR   Grivna     Rupia\n",
      "0    01.03.2020  66.9909  73.7235  2.72570  0.930752\n",
      "1    02.03.2020  66.9909  73.7235  2.72570  0.930752\n",
      "2    03.03.2020  66.3274  73.4178  2.68030  0.920013\n",
      "3    04.03.2020  66.4437  73.9385  2.66400  0.909627\n",
      "4    05.03.2020  66.0784  73.7369  2.64485  0.899008\n",
      "..          ...      ...      ...      ...       ...\n",
      "118  27.06.2020  69.1284  77.5413  2.59175  0.914207\n",
      "119  28.06.2020  69.1284  77.5413  2.59175  0.914207\n",
      "120  29.06.2020  69.1284  77.5413  2.59175  0.914207\n",
      "121  30.06.2020  69.9513  78.6812  2.61743  0.925691\n",
      "122  01.07.2020  70.4413  78.9929  2.64194  0.932713\n",
      "\n",
      "[123 rows x 5 columns]\n"
     ]
    }
   ],
   "source": [
    "import xml.etree.cElementTree as ET\n",
    "import requests \n",
    "import pandas as pd\n",
    "\n",
    "\n",
    "def getResult(day, month, year):\n",
    "    if int(day) < 10:\n",
    "        day = '0%s' % day\n",
    "    if int(month) < 10:\n",
    "        month = '0%s' % month\n",
    "    url='http://www.cbr.ru/scripts/XML_daily.asp?date_req={}/{}/{}'.format(day,month,year)\n",
    "    get_xml = requests.get(url)\n",
    "    structure = ET.fromstring(get_xml.content)\n",
    "    #for child in structure:\n",
    "     #   print(child.tag)\n",
    "     #  print(child.attrib)\n",
    "\n",
    "  #  print(type(structure))\n",
    "    dollar_value = float(structure.find(\"./*[@ID='R01235']/Value\").text.replace(',', '.'))\n",
    "    dollar_nominal= float(structure.find(\"./*[@ID='R01235']/Nominal\").text.replace(',', '.'))\n",
    "    euro_value = float(structure.find(\"./*[@ID='R01239']/Value\").text.replace(',', '.'))\n",
    "    euro_nominal = float(structure.find(\"./*[@ID='R01239']/Nominal\").text.replace(',', '.'))\n",
    "    rupia_value= float(structure.find(\"./*[@ID='R01270']/Value\").text.replace(',', '.'))\n",
    "    rupia_nominal= float(structure.find(\"./*[@ID='R01270']/Nominal\").text.replace(',', '.'))\n",
    "    grivna_value = float(structure.find(\"./*[@ID='R01720']/Value\").text.replace(',', '.'))\n",
    "    grivna_nominal = float(structure.find(\"./*[@ID='R01720']/Nominal\").text.replace(',', '.'))\n",
    "    \n",
    "    dollar= dollar_value/dollar_nominal\n",
    "    euro= euro_value/euro_nominal\n",
    "    rupia= rupia_value/rupia_nominal\n",
    "    grivna= grivna_value/grivna_nominal\n",
    "                           \n",
    "    date=\"{}.{}.{}\".format(day, month, year)\n",
    "    return [dollar,euro,rupia,grivna,date]\n",
    "\n",
    "from datetime import date, timedelta\n",
    "d1 = date(2020, 3, 1)  \n",
    "d2 = date(2020, 7, 1) \n",
    "delta = d2 - d1     \n",
    "df = pd.DataFrame()\n",
    "id=0\n",
    "for i in range(delta.days + 1):\n",
    "    resultDate= d1+ timedelta(i)\n",
    "    resultList = getResult(str(resultDate.day),str(resultDate.month),str(resultDate.year))\n",
    "    df.loc[id,'Date']=resultList[4]\n",
    "    df.loc[id,'Dollar']=resultList[0]\n",
    "    df.loc[id,'EUR']=resultList[1]\n",
    "    df.loc[id,'Grivna']=resultList[3]\n",
    "    df.loc[id,'Rupia']=resultList[2]\n",
    "    id+=1\n",
    "print(df)\n",
    "df.to_csv('Course.csv',sep=\"|\")\n"
   ]
  },
  {
   "cell_type": "code",
   "execution_count": null,
   "metadata": {},
   "outputs": [],
   "source": []
  }
 ],
 "metadata": {
  "kernelspec": {
   "display_name": "Python 3",
   "language": "python",
   "name": "python3"
  },
  "language_info": {
   "codemirror_mode": {
    "name": "ipython",
    "version": 3
   },
   "file_extension": ".py",
   "mimetype": "text/x-python",
   "name": "python",
   "nbconvert_exporter": "python",
   "pygments_lexer": "ipython3",
   "version": "3.8.3"
  }
 },
 "nbformat": 4,
 "nbformat_minor": 4
}
