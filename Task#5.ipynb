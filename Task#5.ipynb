{
 "cells": [
  {
   "cell_type": "markdown",
   "metadata": {},
   "source": [
    "#   LR1 Task 5\n",
    "     "
   ]
  },
  {
   "cell_type": "code",
   "execution_count": null,
   "metadata": {},
   "outputs": [],
   "source": [
    "import xml.etree.cElementTree as ET\n",
    "import requests \n",
    "import pandas as pd\n",
    "\n",
    "\n",
    "def getResult(day, month, year):\n",
    "    if int(day) < 10:\n",
    "        day = '0%s' % day\n",
    "    if int(month) < 10:\n",
    "        month = '0%s' % month\n",
    "    url='http://www.cbr.ru/scripts/XML_daily.asp?date_req={}/{}/{}'.format(day,month,year)\n",
    "    get_xml = requests.get(url)\n",
    "    structure = ET.fromstring(get_xml.content)\n",
    "    #for child in structure:\n",
    "     #   print(child.tag)\n",
    "     #  print(child.attrib)\n",
    "\n",
    "  #  print(type(structure))\n",
    "    dollar = structure.find(\"./*[@ID='R01235']/Value\")\n",
    "    euro = structure.find(\"./*[@ID='R01239']/Value\")\n",
    "    rupia= structure.find(\"./*[@ID='R01270']/Value\")\n",
    "    grivna = structure.find(\"./*[@ID='R01720']/Value\")\n",
    "    date=\"{}.{}.{}\".format(day, month, year)\n",
    "    return [dollar,euro,rupia,grivna,date]\n",
    "\n",
    "from datetime import date, timedelta\n",
    "d1 = date(2020, 3, 1)  \n",
    "d2 = date(2020, 7, 1) \n",
    "delta = d2 - d1     \n",
    "df = pd.DataFrame()\n",
    "id=0\n",
    "for i in range(delta.days + 1):\n",
    "    resultDate= d1+ timedelta(i)\n",
    "    resultList = getResult(str(resultDate.day),str(resultDate.month),str(resultDate.year))\n",
    "    df.loc[id,'Date']=resultList[4]\n",
    "    df.loc[id,'Dollar']=resultList[0].text.replace(',', '.')\n",
    "    df.loc[id,'EUR']=resultList[1].text.replace(',', '.')\n",
    "    df.loc[id,'Grivna']=resultList[3].text.replace(',', '.')\n",
    "    df.loc[id,'Rupia']=resultList[2].text.replace(',', '.')\n",
    "    id+=1\n",
    "print(df)\n",
    "df.to_csv('Course.csv',sep=\"|\")\n"
   ]
  },
  {
   "cell_type": "code",
   "execution_count": null,
   "metadata": {},
   "outputs": [],
   "source": []
  }
 ],
 "metadata": {
  "kernelspec": {
   "display_name": "Python 3",
   "language": "python",
   "name": "python3"
  },
  "language_info": {
   "codemirror_mode": {
    "name": "ipython",
    "version": 3
   },
   "file_extension": ".py",
   "mimetype": "text/x-python",
   "name": "python",
   "nbconvert_exporter": "python",
   "pygments_lexer": "ipython3",
   "version": "3.8.3"
  }
 },
 "nbformat": 4,
 "nbformat_minor": 4
}
